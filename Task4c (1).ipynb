{
  "nbformat": 4,
  "nbformat_minor": 0,
  "metadata": {
    "colab": {
      "name": "Task4c.ipynb",
      "provenance": [],
      "collapsed_sections": []
    },
    "kernelspec": {
      "name": "python2",
      "display_name": "Python 2"
    },
    "language_info": {
      "name": "python"
    }
  },
  "cells": [
    {
      "cell_type": "code",
      "metadata": {
        "id": "JQifZDk7mu6t",
        "colab": {
          "base_uri": "https://localhost:8080/"
        },
        "outputId": "1d48453a-f330-4562-e089-42fc129b68f1"
      },
      "source": [
        "!python --version"
      ],
      "execution_count": null,
      "outputs": [
        {
          "output_type": "stream",
          "text": [
            "Python 2.7.17\n"
          ],
          "name": "stdout"
        }
      ]
    },
    {
      "cell_type": "code",
      "metadata": {
        "colab": {
          "base_uri": "https://localhost:8080/"
        },
        "id": "KS6UKLI8iXUA",
        "outputId": "9ff9867c-d518-4900-dbd0-06350649dc56"
      },
      "source": [
        "!pip install zipline"
      ],
      "execution_count": null,
      "outputs": [
        {
          "output_type": "stream",
          "text": [
            "Requirement already satisfied: zipline in /usr/local/lib/python2.7/dist-packages (1.4.1)\n",
            "Requirement already satisfied: bottleneck>=1.0.0 in /usr/local/lib/python2.7/dist-packages (from zipline) (1.3.2)\n",
            "Requirement already satisfied: multipledispatch>=0.6.0 in /usr/local/lib/python2.7/dist-packages (from zipline) (0.6.0)\n",
            "Requirement already satisfied: pandas-datareader<0.9.0,>=0.2.1 in /usr/local/lib/python2.7/dist-packages (from zipline) (0.7.0)\n",
            "Requirement already satisfied: requests>=2.9.1 in /usr/local/lib/python2.7/dist-packages (from zipline) (2.23.0)\n",
            "Requirement already satisfied: trading-calendars>=1.6.1 in /usr/local/lib/python2.7/dist-packages (from zipline) (2.1.1)\n",
            "Requirement already satisfied: numexpr>=2.6.1 in /usr/local/lib/python2.7/dist-packages (from zipline) (2.6.9)\n",
            "Requirement already satisfied: scipy>=0.17.1 in /usr/local/lib/python2.7/dist-packages (from zipline) (1.2.2)\n",
            "Requirement already satisfied: tables>=3.4.3 in /usr/local/lib/python2.7/dist-packages (from zipline) (3.4.4)\n",
            "Requirement already satisfied: six>=1.10.0 in /usr/local/lib/python2.7/dist-packages (from zipline) (1.15.0)\n",
            "Requirement already satisfied: lru-dict>=1.1.4 in /usr/local/lib/python2.7/dist-packages (from zipline) (1.1.7)\n",
            "Requirement already satisfied: Logbook>=0.12.5 in /usr/local/lib/python2.7/dist-packages (from zipline) (1.5.3)\n",
            "Requirement already satisfied: iso3166>=0.9 in /usr/local/lib/python2.7/dist-packages (from zipline) (1.0.1)\n",
            "Requirement already satisfied: pip>=7.1.0 in /usr/local/lib/python2.7/dist-packages (from zipline) (19.3.1)\n",
            "Requirement already satisfied: toolz>=0.8.2 in /usr/local/lib/python2.7/dist-packages (from zipline) (0.10.0)\n",
            "Requirement already satisfied: empyrical>=0.5.0 in /usr/local/lib/python2.7/dist-packages (from zipline) (0.5.5)\n",
            "Requirement already satisfied: statsmodels>=0.6.1 in /usr/local/lib/python2.7/dist-packages (from zipline) (0.10.0)\n",
            "Requirement already satisfied: python-interface>=1.5.3 in /usr/local/lib/python2.7/dist-packages (from zipline) (1.6.1)\n",
            "Requirement already satisfied: patsy>=0.4.0 in /usr/local/lib/python2.7/dist-packages (from zipline) (0.5.1)\n",
            "Requirement already satisfied: networkx<2.0,>=1.9.1 in /usr/local/lib/python2.7/dist-packages (from zipline) (1.11)\n",
            "Requirement already satisfied: contextlib2>=0.4.0 in /usr/local/lib/python2.7/dist-packages (from zipline) (0.5.5)\n",
            "Requirement already satisfied: pandas<=0.22,>=0.18.1 in /usr/local/lib/python2.7/dist-packages (from zipline) (0.22.0)\n",
            "Requirement already satisfied: numpy>=1.11.3 in /usr/local/lib/python2.7/dist-packages (from zipline) (1.16.4)\n",
            "Requirement already satisfied: bcolz>=0.12.1 in /usr/local/lib/python2.7/dist-packages (from zipline) (1.2.1)\n",
            "Requirement already satisfied: sqlalchemy>=1.0.8 in /usr/local/lib/python2.7/dist-packages (from zipline) (1.3.5)\n",
            "Requirement already satisfied: click>=4.0.0 in /usr/local/lib/python2.7/dist-packages (from zipline) (7.0)\n",
            "Requirement already satisfied: setuptools>18.0 in /usr/local/lib/python2.7/dist-packages (from zipline) (44.1.1)\n",
            "Requirement already satisfied: intervaltree>=2.1.0 in /usr/local/lib/python2.7/dist-packages (from zipline) (2.1.0)\n",
            "Requirement already satisfied: pytz>=2018.5 in /usr/local/lib/python2.7/dist-packages (from zipline) (2018.9)\n",
            "Requirement already satisfied: iso4217>=1.6.20180829 in /usr/local/lib/python2.7/dist-packages (from zipline) (1.6.20180829)\n",
            "Requirement already satisfied: alembic>=0.7.7 in /usr/local/lib/python2.7/dist-packages (from zipline) (1.6.5)\n",
            "Requirement already satisfied: h5py>=2.7.1 in /usr/local/lib/python2.7/dist-packages (from zipline) (2.8.0)\n",
            "Requirement already satisfied: lxml in /usr/local/lib/python2.7/dist-packages (from pandas-datareader<0.9.0,>=0.2.1->zipline) (4.2.6)\n",
            "Requirement already satisfied: wrapt in /usr/local/lib/python2.7/dist-packages (from pandas-datareader<0.9.0,>=0.2.1->zipline) (1.11.2)\n",
            "Requirement already satisfied: urllib3!=1.25.0,!=1.25.1,<1.26,>=1.21.1 in /usr/local/lib/python2.7/dist-packages (from requests>=2.9.1->zipline) (1.24.3)\n",
            "Requirement already satisfied: chardet<4,>=3.0.2 in /usr/local/lib/python2.7/dist-packages (from requests>=2.9.1->zipline) (3.0.4)\n",
            "Requirement already satisfied: certifi>=2017.4.17 in /usr/local/lib/python2.7/dist-packages (from requests>=2.9.1->zipline) (2019.6.16)\n",
            "Requirement already satisfied: idna<3,>=2.5 in /usr/local/lib/python2.7/dist-packages (from requests>=2.9.1->zipline) (2.8)\n",
            "Requirement already satisfied: python-dateutil in /usr/local/lib/python2.7/dist-packages (from trading-calendars>=1.6.1->zipline) (2.5.3)\n",
            "Requirement already satisfied: typing>=3.5.2; python_version < \"3.5\" in /usr/local/lib/python2.7/dist-packages (from python-interface>=1.5.3->zipline) (3.7.4)\n",
            "Requirement already satisfied: funcsigs>=1.0.2; python_version < \"3\" in /usr/local/lib/python2.7/dist-packages (from python-interface>=1.5.3->zipline) (1.0.2)\n",
            "Requirement already satisfied: decorator>=3.4.0 in /usr/local/lib/python2.7/dist-packages (from networkx<2.0,>=1.9.1->zipline) (4.4.0)\n",
            "Requirement already satisfied: sortedcontainers in /usr/local/lib/python2.7/dist-packages (from intervaltree>=2.1.0->zipline) (2.1.0)\n",
            "Requirement already satisfied: python-editor>=0.3 in /usr/local/lib/python2.7/dist-packages (from alembic>=0.7.7->zipline) (1.0.4)\n",
            "Requirement already satisfied: Mako in /usr/local/lib/python2.7/dist-packages (from alembic>=0.7.7->zipline) (1.1.4)\n",
            "Requirement already satisfied: MarkupSafe>=0.9.2 in /usr/local/lib/python2.7/dist-packages (from Mako->alembic>=0.7.7->zipline) (1.1.1)\n"
          ],
          "name": "stdout"
        }
      ]
    },
    {
      "cell_type": "code",
      "metadata": {
        "colab": {
          "base_uri": "https://localhost:8080/"
        },
        "id": "Ub3tRU_Ciu_5",
        "outputId": "d0dea79b-672f-4f43-ea59-5a5eaf8bd81b"
      },
      "source": [
        "!apt-get install libatlas-base-dev python-dev gfortran pkg-config libfreetype6-dev hdf5-tools"
      ],
      "execution_count": null,
      "outputs": [
        {
          "output_type": "stream",
          "text": [
            "Reading package lists... Done\n",
            "Building dependency tree       \n",
            "Reading state information... Done\n",
            "pkg-config is already the newest version (0.29.1-0ubuntu2).\n",
            "python-dev is already the newest version (2.7.15~rc1-1).\n",
            "hdf5-tools is already the newest version (1.10.0-patch1+docs-4).\n",
            "libatlas-base-dev is already the newest version (3.10.3-5).\n",
            "gfortran is already the newest version (4:7.4.0-1ubuntu2.3).\n",
            "libfreetype6-dev is already the newest version (2.8.1-2ubuntu2.1).\n",
            "0 upgraded, 0 newly installed, 0 to remove and 39 not upgraded.\n"
          ],
          "name": "stdout"
        }
      ]
    },
    {
      "cell_type": "code",
      "metadata": {
        "id": "oefobnofjIQ3"
      },
      "source": [
        "import os\n",
        "os.environ['QUANDL_API_KEY'] = '1MVxkHJfSsgBjS2KYERG'\n",
        "\n",
        "\n",
        "from zipline.utils.run_algo import load_extensions\n",
        "\n",
        "load_extensions(\n",
        "    default=True,\n",
        "    extensions=[],\n",
        "    strict=True,\n",
        "    environ=os.environ,\n",
        ")"
      ],
      "execution_count": null,
      "outputs": []
    },
    {
      "cell_type": "code",
      "metadata": {
        "id": "hOwtpvyMjThe",
        "colab": {
          "base_uri": "https://localhost:8080/"
        },
        "outputId": "81cea47b-1f14-4efe-f00a-623dffb4a975"
      },
      "source": [
        "%load_ext zipline\n",
        "#Second line to register the magic"
      ],
      "execution_count": null,
      "outputs": [
        {
          "output_type": "stream",
          "text": [
            "The zipline extension is already loaded. To reload it, use:\n",
            "  %reload_ext zipline\n"
          ],
          "name": "stdout"
        }
      ]
    },
    {
      "cell_type": "code",
      "metadata": {
        "id": "BZ7sljQjjjt5",
        "colab": {
          "base_uri": "https://localhost:8080/"
        },
        "outputId": "0e939198-a01a-4fe0-82ee-271e6aa10a3c"
      },
      "source": [
        "! zipline ingest -b quantopian-quandl"
      ],
      "execution_count": null,
      "outputs": [
        {
          "output_type": "stream",
          "text": [
            "[2021-06-12 12:25:03.583417] INFO: zipline.data.bundles.core: Ingesting quantopian-quandl.\n",
            "\u001b[?25lDownloading Bundle: quantopian-quandl  [####################################]  100%          \u001b[?25h\n",
            "[2021-06-12 12:25:05.685069] INFO: zipline.data.bundles.quandl: Writing data to /root/.zipline/data/quantopian-quandl/2021-06-12T12;25;03.177554.\n"
          ],
          "name": "stdout"
        }
      ]
    },
    {
      "cell_type": "code",
      "metadata": {
        "id": "nnWDgOb_jY_J",
        "colab": {
          "base_uri": "https://localhost:8080/"
        },
        "outputId": "89776145-d33c-49d1-f804-2ecfa17b4fb5"
      },
      "source": [
        "#Check existing data\n",
        "!zipline bundles"
      ],
      "execution_count": null,
      "outputs": [
        {
          "output_type": "stream",
          "text": [
            "csvdir <no ingestions>\n",
            "quandl <no ingestions>\n",
            "quantopian-quandl 2021-06-12 12:25:03.177554\n",
            "quantopian-quandl 2021-06-12 09:06:12.571332\n"
          ],
          "name": "stdout"
        }
      ]
    },
    {
      "cell_type": "code",
      "metadata": {
        "colab": {
          "resources": {
            "http://localhost:8080/nbextensions/google.colab/files.js": {
              "data": "Ly8gQ29weXJpZ2h0IDIwMTcgR29vZ2xlIExMQwovLwovLyBMaWNlbnNlZCB1bmRlciB0aGUgQXBhY2hlIExpY2Vuc2UsIFZlcnNpb24gMi4wICh0aGUgIkxpY2Vuc2UiKTsKLy8geW91IG1heSBub3QgdXNlIHRoaXMgZmlsZSBleGNlcHQgaW4gY29tcGxpYW5jZSB3aXRoIHRoZSBMaWNlbnNlLgovLyBZb3UgbWF5IG9idGFpbiBhIGNvcHkgb2YgdGhlIExpY2Vuc2UgYXQKLy8KLy8gICAgICBodHRwOi8vd3d3LmFwYWNoZS5vcmcvbGljZW5zZXMvTElDRU5TRS0yLjAKLy8KLy8gVW5sZXNzIHJlcXVpcmVkIGJ5IGFwcGxpY2FibGUgbGF3IG9yIGFncmVlZCB0byBpbiB3cml0aW5nLCBzb2Z0d2FyZQovLyBkaXN0cmlidXRlZCB1bmRlciB0aGUgTGljZW5zZSBpcyBkaXN0cmlidXRlZCBvbiBhbiAiQVMgSVMiIEJBU0lTLAovLyBXSVRIT1VUIFdBUlJBTlRJRVMgT1IgQ09ORElUSU9OUyBPRiBBTlkgS0lORCwgZWl0aGVyIGV4cHJlc3Mgb3IgaW1wbGllZC4KLy8gU2VlIHRoZSBMaWNlbnNlIGZvciB0aGUgc3BlY2lmaWMgbGFuZ3VhZ2UgZ292ZXJuaW5nIHBlcm1pc3Npb25zIGFuZAovLyBsaW1pdGF0aW9ucyB1bmRlciB0aGUgTGljZW5zZS4KCi8qKgogKiBAZmlsZW92ZXJ2aWV3IEhlbHBlcnMgZm9yIGdvb2dsZS5jb2xhYiBQeXRob24gbW9kdWxlLgogKi8KKGZ1bmN0aW9uKHNjb3BlKSB7CmZ1bmN0aW9uIHNwYW4odGV4dCwgc3R5bGVBdHRyaWJ1dGVzID0ge30pIHsKICBjb25zdCBlbGVtZW50ID0gZG9jdW1lbnQuY3JlYXRlRWxlbWVudCgnc3BhbicpOwogIGVsZW1lbnQudGV4dENvbnRlbnQgPSB0ZXh0OwogIGZvciAoY29uc3Qga2V5IG9mIE9iamVjdC5rZXlzKHN0eWxlQXR0cmlidXRlcykpIHsKICAgIGVsZW1lbnQuc3R5bGVba2V5XSA9IHN0eWxlQXR0cmlidXRlc1trZXldOwogIH0KICByZXR1cm4gZWxlbWVudDsKfQoKLy8gTWF4IG51bWJlciBvZiBieXRlcyB3aGljaCB3aWxsIGJlIHVwbG9hZGVkIGF0IGEgdGltZS4KY29uc3QgTUFYX1BBWUxPQURfU0laRSA9IDEwMCAqIDEwMjQ7CgpmdW5jdGlvbiBfdXBsb2FkRmlsZXMoaW5wdXRJZCwgb3V0cHV0SWQpIHsKICBjb25zdCBzdGVwcyA9IHVwbG9hZEZpbGVzU3RlcChpbnB1dElkLCBvdXRwdXRJZCk7CiAgY29uc3Qgb3V0cHV0RWxlbWVudCA9IGRvY3VtZW50LmdldEVsZW1lbnRCeUlkKG91dHB1dElkKTsKICAvLyBDYWNoZSBzdGVwcyBvbiB0aGUgb3V0cHV0RWxlbWVudCB0byBtYWtlIGl0IGF2YWlsYWJsZSBmb3IgdGhlIG5leHQgY2FsbAogIC8vIHRvIHVwbG9hZEZpbGVzQ29udGludWUgZnJvbSBQeXRob24uCiAgb3V0cHV0RWxlbWVudC5zdGVwcyA9IHN0ZXBzOwoKICByZXR1cm4gX3VwbG9hZEZpbGVzQ29udGludWUob3V0cHV0SWQpOwp9CgovLyBUaGlzIGlzIHJvdWdobHkgYW4gYXN5bmMgZ2VuZXJhdG9yIChub3Qgc3VwcG9ydGVkIGluIHRoZSBicm93c2VyIHlldCksCi8vIHdoZXJlIHRoZXJlIGFyZSBtdWx0aXBsZSBhc3luY2hyb25vdXMgc3RlcHMgYW5kIHRoZSBQeXRob24gc2lkZSBpcyBnb2luZwovLyB0byBwb2xsIGZvciBjb21wbGV0aW9uIG9mIGVhY2ggc3RlcC4KLy8gVGhpcyB1c2VzIGEgUHJvbWlzZSB0byBibG9jayB0aGUgcHl0aG9uIHNpZGUgb24gY29tcGxldGlvbiBvZiBlYWNoIHN0ZXAsCi8vIHRoZW4gcGFzc2VzIHRoZSByZXN1bHQgb2YgdGhlIHByZXZpb3VzIHN0ZXAgYXMgdGhlIGlucHV0IHRvIHRoZSBuZXh0IHN0ZXAuCmZ1bmN0aW9uIF91cGxvYWRGaWxlc0NvbnRpbnVlKG91dHB1dElkKSB7CiAgY29uc3Qgb3V0cHV0RWxlbWVudCA9IGRvY3VtZW50LmdldEVsZW1lbnRCeUlkKG91dHB1dElkKTsKICBjb25zdCBzdGVwcyA9IG91dHB1dEVsZW1lbnQuc3RlcHM7CgogIGNvbnN0IG5leHQgPSBzdGVwcy5uZXh0KG91dHB1dEVsZW1lbnQubGFzdFByb21pc2VWYWx1ZSk7CiAgcmV0dXJuIFByb21pc2UucmVzb2x2ZShuZXh0LnZhbHVlLnByb21pc2UpLnRoZW4oKHZhbHVlKSA9PiB7CiAgICAvLyBDYWNoZSB0aGUgbGFzdCBwcm9taXNlIHZhbHVlIHRvIG1ha2UgaXQgYXZhaWxhYmxlIHRvIHRoZSBuZXh0CiAgICAvLyBzdGVwIG9mIHRoZSBnZW5lcmF0b3IuCiAgICBvdXRwdXRFbGVtZW50Lmxhc3RQcm9taXNlVmFsdWUgPSB2YWx1ZTsKICAgIHJldHVybiBuZXh0LnZhbHVlLnJlc3BvbnNlOwogIH0pOwp9CgovKioKICogR2VuZXJhdG9yIGZ1bmN0aW9uIHdoaWNoIGlzIGNhbGxlZCBiZXR3ZWVuIGVhY2ggYXN5bmMgc3RlcCBvZiB0aGUgdXBsb2FkCiAqIHByb2Nlc3MuCiAqIEBwYXJhbSB7c3RyaW5nfSBpbnB1dElkIEVsZW1lbnQgSUQgb2YgdGhlIGlucHV0IGZpbGUgcGlja2VyIGVsZW1lbnQuCiAqIEBwYXJhbSB7c3RyaW5nfSBvdXRwdXRJZCBFbGVtZW50IElEIG9mIHRoZSBvdXRwdXQgZGlzcGxheS4KICogQHJldHVybiB7IUl0ZXJhYmxlPCFPYmplY3Q+fSBJdGVyYWJsZSBvZiBuZXh0IHN0ZXBzLgogKi8KZnVuY3Rpb24qIHVwbG9hZEZpbGVzU3RlcChpbnB1dElkLCBvdXRwdXRJZCkgewogIGNvbnN0IGlucHV0RWxlbWVudCA9IGRvY3VtZW50LmdldEVsZW1lbnRCeUlkKGlucHV0SWQpOwogIGlucHV0RWxlbWVudC5kaXNhYmxlZCA9IGZhbHNlOwoKICBjb25zdCBvdXRwdXRFbGVtZW50ID0gZG9jdW1lbnQuZ2V0RWxlbWVudEJ5SWQob3V0cHV0SWQpOwogIG91dHB1dEVsZW1lbnQuaW5uZXJIVE1MID0gJyc7CgogIGNvbnN0IHBpY2tlZFByb21pc2UgPSBuZXcgUHJvbWlzZSgocmVzb2x2ZSkgPT4gewogICAgaW5wdXRFbGVtZW50LmFkZEV2ZW50TGlzdGVuZXIoJ2NoYW5nZScsIChlKSA9PiB7CiAgICAgIHJlc29sdmUoZS50YXJnZXQuZmlsZXMpOwogICAgfSk7CiAgfSk7CgogIGNvbnN0IGNhbmNlbCA9IGRvY3VtZW50LmNyZWF0ZUVsZW1lbnQoJ2J1dHRvbicpOwogIGlucHV0RWxlbWVudC5wYXJlbnRFbGVtZW50LmFwcGVuZENoaWxkKGNhbmNlbCk7CiAgY2FuY2VsLnRleHRDb250ZW50ID0gJ0NhbmNlbCB1cGxvYWQnOwogIGNvbnN0IGNhbmNlbFByb21pc2UgPSBuZXcgUHJvbWlzZSgocmVzb2x2ZSkgPT4gewogICAgY2FuY2VsLm9uY2xpY2sgPSAoKSA9PiB7CiAgICAgIHJlc29sdmUobnVsbCk7CiAgICB9OwogIH0pOwoKICAvLyBXYWl0IGZvciB0aGUgdXNlciB0byBwaWNrIHRoZSBmaWxlcy4KICBjb25zdCBmaWxlcyA9IHlpZWxkIHsKICAgIHByb21pc2U6IFByb21pc2UucmFjZShbcGlja2VkUHJvbWlzZSwgY2FuY2VsUHJvbWlzZV0pLAogICAgcmVzcG9uc2U6IHsKICAgICAgYWN0aW9uOiAnc3RhcnRpbmcnLAogICAgfQogIH07CgogIGNhbmNlbC5yZW1vdmUoKTsKCiAgLy8gRGlzYWJsZSB0aGUgaW5wdXQgZWxlbWVudCBzaW5jZSBmdXJ0aGVyIHBpY2tzIGFyZSBub3QgYWxsb3dlZC4KICBpbnB1dEVsZW1lbnQuZGlzYWJsZWQgPSB0cnVlOwoKICBpZiAoIWZpbGVzKSB7CiAgICByZXR1cm4gewogICAgICByZXNwb25zZTogewogICAgICAgIGFjdGlvbjogJ2NvbXBsZXRlJywKICAgICAgfQogICAgfTsKICB9CgogIGZvciAoY29uc3QgZmlsZSBvZiBmaWxlcykgewogICAgY29uc3QgbGkgPSBkb2N1bWVudC5jcmVhdGVFbGVtZW50KCdsaScpOwogICAgbGkuYXBwZW5kKHNwYW4oZmlsZS5uYW1lLCB7Zm9udFdlaWdodDogJ2JvbGQnfSkpOwogICAgbGkuYXBwZW5kKHNwYW4oCiAgICAgICAgYCgke2ZpbGUudHlwZSB8fCAnbi9hJ30pIC0gJHtmaWxlLnNpemV9IGJ5dGVzLCBgICsKICAgICAgICBgbGFzdCBtb2RpZmllZDogJHsKICAgICAgICAgICAgZmlsZS5sYXN0TW9kaWZpZWREYXRlID8gZmlsZS5sYXN0TW9kaWZpZWREYXRlLnRvTG9jYWxlRGF0ZVN0cmluZygpIDoKICAgICAgICAgICAgICAgICAgICAgICAgICAgICAgICAgICAgJ24vYSd9IC0gYCkpOwogICAgY29uc3QgcGVyY2VudCA9IHNwYW4oJzAlIGRvbmUnKTsKICAgIGxpLmFwcGVuZENoaWxkKHBlcmNlbnQpOwoKICAgIG91dHB1dEVsZW1lbnQuYXBwZW5kQ2hpbGQobGkpOwoKICAgIGNvbnN0IGZpbGVEYXRhUHJvbWlzZSA9IG5ldyBQcm9taXNlKChyZXNvbHZlKSA9PiB7CiAgICAgIGNvbnN0IHJlYWRlciA9IG5ldyBGaWxlUmVhZGVyKCk7CiAgICAgIHJlYWRlci5vbmxvYWQgPSAoZSkgPT4gewogICAgICAgIHJlc29sdmUoZS50YXJnZXQucmVzdWx0KTsKICAgICAgfTsKICAgICAgcmVhZGVyLnJlYWRBc0FycmF5QnVmZmVyKGZpbGUpOwogICAgfSk7CiAgICAvLyBXYWl0IGZvciB0aGUgZGF0YSB0byBiZSByZWFkeS4KICAgIGxldCBmaWxlRGF0YSA9IHlpZWxkIHsKICAgICAgcHJvbWlzZTogZmlsZURhdGFQcm9taXNlLAogICAgICByZXNwb25zZTogewogICAgICAgIGFjdGlvbjogJ2NvbnRpbnVlJywKICAgICAgfQogICAgfTsKCiAgICAvLyBVc2UgYSBjaHVua2VkIHNlbmRpbmcgdG8gYXZvaWQgbWVzc2FnZSBzaXplIGxpbWl0cy4gU2VlIGIvNjIxMTU2NjAuCiAgICBsZXQgcG9zaXRpb24gPSAwOwogICAgZG8gewogICAgICBjb25zdCBsZW5ndGggPSBNYXRoLm1pbihmaWxlRGF0YS5ieXRlTGVuZ3RoIC0gcG9zaXRpb24sIE1BWF9QQVlMT0FEX1NJWkUpOwogICAgICBjb25zdCBjaHVuayA9IG5ldyBVaW50OEFycmF5KGZpbGVEYXRhLCBwb3NpdGlvbiwgbGVuZ3RoKTsKICAgICAgcG9zaXRpb24gKz0gbGVuZ3RoOwoKICAgICAgY29uc3QgYmFzZTY0ID0gYnRvYShTdHJpbmcuZnJvbUNoYXJDb2RlLmFwcGx5KG51bGwsIGNodW5rKSk7CiAgICAgIHlpZWxkIHsKICAgICAgICByZXNwb25zZTogewogICAgICAgICAgYWN0aW9uOiAnYXBwZW5kJywKICAgICAgICAgIGZpbGU6IGZpbGUubmFtZSwKICAgICAgICAgIGRhdGE6IGJhc2U2NCwKICAgICAgICB9LAogICAgICB9OwoKICAgICAgbGV0IHBlcmNlbnREb25lID0gZmlsZURhdGEuYnl0ZUxlbmd0aCA9PT0gMCA/CiAgICAgICAgICAxMDAgOgogICAgICAgICAgTWF0aC5yb3VuZCgocG9zaXRpb24gLyBmaWxlRGF0YS5ieXRlTGVuZ3RoKSAqIDEwMCk7CiAgICAgIHBlcmNlbnQudGV4dENvbnRlbnQgPSBgJHtwZXJjZW50RG9uZX0lIGRvbmVgOwoKICAgIH0gd2hpbGUgKHBvc2l0aW9uIDwgZmlsZURhdGEuYnl0ZUxlbmd0aCk7CiAgfQoKICAvLyBBbGwgZG9uZS4KICB5aWVsZCB7CiAgICByZXNwb25zZTogewogICAgICBhY3Rpb246ICdjb21wbGV0ZScsCiAgICB9CiAgfTsKfQoKc2NvcGUuZ29vZ2xlID0gc2NvcGUuZ29vZ2xlIHx8IHt9OwpzY29wZS5nb29nbGUuY29sYWIgPSBzY29wZS5nb29nbGUuY29sYWIgfHwge307CnNjb3BlLmdvb2dsZS5jb2xhYi5fZmlsZXMgPSB7CiAgX3VwbG9hZEZpbGVzLAogIF91cGxvYWRGaWxlc0NvbnRpbnVlLAp9Owp9KShzZWxmKTsK",
              "ok": true,
              "headers": [
                [
                  "content-type",
                  "application/javascript"
                ]
              ],
              "status": 200,
              "status_text": ""
            }
          },
          "base_uri": "https://localhost:8080/",
          "height": 72
        },
        "id": "grY3ixagfERC",
        "outputId": "64ca2102-5fbd-40b2-dfc6-7853d3e18b94"
      },
      "source": [
        "from google.colab import files\n",
        "uploaded = files.upload()"
      ],
      "execution_count": null,
      "outputs": [
        {
          "output_type": "display_data",
          "data": {
            "text/plain": [
              "<IPython.core.display.HTML object>"
            ],
            "text/html": [
              "\n",
              "     <input type=\"file\" id=\"files-e8163e64-da7c-4579-bdb5-a1d23049464e\" name=\"files[]\" multiple disabled\n",
              "        style=\"border:none\" />\n",
              "     <output id=\"result-e8163e64-da7c-4579-bdb5-a1d23049464e\">\n",
              "      Upload widget is only available when the cell has been executed in the\n",
              "      current browser session. Please rerun this cell to enable.\n",
              "      </output>\n",
              "      <script src=\"/nbextensions/google.colab/files.js\"></script> "
            ]
          },
          "metadata": {
            "tags": []
          }
        },
        {
          "output_type": "stream",
          "text": [
            "Saving SHFE-SNX2020.csv to SHFE-SNX2020 (2).csv\n"
          ],
          "name": "stdout"
        }
      ]
    },
    {
      "cell_type": "code",
      "metadata": {
        "colab": {
          "base_uri": "https://localhost:8080/",
          "height": 95
        },
        "id": "zhkSrQyi3GlT",
        "outputId": "623def22-45f7-48c2-c381-eff4ba95c3a3"
      },
      "source": [
        "#Get correct trading calendar days\n",
        "#%%\n",
        "import pandas as pd\n",
        "import csv\n",
        "import numpy as np\n",
        "from trading_calendars import get_calendar\n",
        "from zipline.utils.calendars import TradingCalendar\n",
        "from zipline.utils.tradingcalendar import get_trading_days\n",
        "from pandas import Timestamp\n",
        "\n",
        "\n",
        "#%%\n",
        "#This is the process to get the correct trading days, which will then be use in the Bundle Ingest process to index the days\n",
        "trading_days = get_trading_days(start=Timestamp('2019-11-18 00:00:00+0000', tz='UTC'), \n",
        "                                end=Timestamp('2020-11-16 02:21:29.456875+0000')\n",
        "                                ).date.astype(str)\n",
        "\n",
        "# %%\n",
        "# Delete any specific days that give errors\n",
        "trading_days = np.delete(trading_days, np.where(trading_days == '2018-12-05'))\n",
        "trading_days[trading_days == '2018-12-05']\n",
        "\n",
        "\n",
        "#%%\n",
        "# Create a CSV file to set the Zipline Bundle Ingest process against\n",
        "#with open('trading_calendar.csv', 'w', newline='') as f:\n",
        "with open('trading_calendar.csv', 'w') as f:\n",
        "    writer = csv.writer(f)\n",
        "    writer.writerow(trading_days)\n",
        "\n",
        "tc = pd.read_csv('trading_calendar.csv')\n",
        "tc.head()"
      ],
      "execution_count": null,
      "outputs": [
        {
          "output_type": "execute_result",
          "data": {
            "text/plain": [
              "Empty DataFrame\n",
              "Columns: [2019-11-18, 2019-11-19, 2019-11-20, 2019-11-21, 2019-11-22, 2019-11-25, 2019-11-26, 2019-11-27, 2019-11-29, 2019-12-02, 2019-12-03, 2019-12-04, 2019-12-05, 2019-12-06, 2019-12-09, 2019-12-10, 2019-12-11, 2019-12-12, 2019-12-13, 2019-12-16, 2019-12-17, 2019-12-18, 2019-12-19, 2019-12-20, 2019-12-23, 2019-12-24, 2019-12-26, 2019-12-27, 2019-12-30, 2019-12-31, 2020-01-02, 2020-01-03, 2020-01-06, 2020-01-07, 2020-01-08, 2020-01-09, 2020-01-10, 2020-01-13, 2020-01-14, 2020-01-15, 2020-01-16, 2020-01-17, 2020-01-21, 2020-01-22, 2020-01-23, 2020-01-24, 2020-01-27, 2020-01-28, 2020-01-29, 2020-01-30, 2020-01-31, 2020-02-03, 2020-02-04, 2020-02-05, 2020-02-06, 2020-02-07, 2020-02-10, 2020-02-11, 2020-02-12, 2020-02-13, 2020-02-14, 2020-02-18, 2020-02-19, 2020-02-20, 2020-02-21, 2020-02-24, 2020-02-25, 2020-02-26, 2020-02-27, 2020-02-28, 2020-03-02, 2020-03-03, 2020-03-04, 2020-03-05, 2020-03-06, 2020-03-09, 2020-03-10, 2020-03-11, 2020-03-12, 2020-03-13, 2020-03-16, 2020-03-17, 2020-03-18, 2020-03-19, 2020-03-20, 2020-03-23, 2020-03-24, 2020-03-25, 2020-03-26, 2020-03-27, 2020-03-30, 2020-03-31, 2020-04-01, 2020-04-02, 2020-04-03, 2020-04-06, 2020-04-07, 2020-04-08, 2020-04-09, 2020-04-13, ...]\n",
              "Index: []\n",
              "\n",
              "[0 rows x 252 columns]"
            ],
            "text/html": [
              "<div>\n",
              "<style scoped>\n",
              "    .dataframe tbody tr th:only-of-type {\n",
              "        vertical-align: middle;\n",
              "    }\n",
              "\n",
              "    .dataframe tbody tr th {\n",
              "        vertical-align: top;\n",
              "    }\n",
              "\n",
              "    .dataframe thead th {\n",
              "        text-align: right;\n",
              "    }\n",
              "</style>\n",
              "<table border=\"1\" class=\"dataframe\">\n",
              "  <thead>\n",
              "    <tr style=\"text-align: right;\">\n",
              "      <th></th>\n",
              "      <th>2019-11-18</th>\n",
              "      <th>2019-11-19</th>\n",
              "      <th>2019-11-20</th>\n",
              "      <th>2019-11-21</th>\n",
              "      <th>2019-11-22</th>\n",
              "      <th>2019-11-25</th>\n",
              "      <th>2019-11-26</th>\n",
              "      <th>2019-11-27</th>\n",
              "      <th>2019-11-29</th>\n",
              "      <th>2019-12-02</th>\n",
              "      <th>...</th>\n",
              "      <th>2020-11-03</th>\n",
              "      <th>2020-11-04</th>\n",
              "      <th>2020-11-05</th>\n",
              "      <th>2020-11-06</th>\n",
              "      <th>2020-11-09</th>\n",
              "      <th>2020-11-10</th>\n",
              "      <th>2020-11-11</th>\n",
              "      <th>2020-11-12</th>\n",
              "      <th>2020-11-13</th>\n",
              "      <th>2020-11-16</th>\n",
              "    </tr>\n",
              "  </thead>\n",
              "  <tbody>\n",
              "  </tbody>\n",
              "</table>\n",
              "<p>0 rows × 252 columns</p>\n",
              "</div>"
            ]
          },
          "metadata": {
            "tags": []
          },
          "execution_count": 185
        }
      ]
    },
    {
      "cell_type": "code",
      "metadata": {
        "colab": {
          "base_uri": "https://localhost:8080/",
          "height": 35
        },
        "id": "p3W3uOzO43A8",
        "outputId": "1aea4940-1efa-49c8-9655-c4aea96ea2fa"
      },
      "source": [
        "#Prepare your bundle\n",
        "#%%\n",
        "import csv\n",
        "import numpy as np\n",
        "import pandas as pd\n",
        "import os\n",
        "\n",
        "\n",
        "\n",
        "with open('trading_calendar.csv') as f:\n",
        "    reader = csv.reader(f)\n",
        "    data = list(reader)\n",
        "\n",
        "arr = np.array(data)\n",
        "trading_days = arr.ravel()\n",
        "\n",
        "\n",
        "def format_bundle(file, outdir):\n",
        "       \n",
        "    count = 0\n",
        "    #ie read only for f ie for dates that are the same as in trading calendar\n",
        "    for f in ['SHFE-SNX2020.csv']:  \n",
        "        \n",
        "      \n",
        "        df = pd.read_csv(io.BytesIO(uploaded['SHFE-SNX2020.csv']), index_col=0, parse_dates=['Date'])\n",
        "        #df = pd.read_csv('{}/{}'.format(indir, f), index_col='date')\n",
        "        #df = pd.read_csv('{}/{}'.format(file, f), index_col='Date')\n",
        "        df = df.reindex(trading_days)\n",
        "\n",
        "    \n",
        "        df.reset_index(inplace=True)\n",
        "        \n",
        "        # Check if there is there is any divident, if not make it zero\n",
        "        if not 'dividend' in df.columns:\n",
        "            df['dividend'] = 0.0\n",
        "        \n",
        "        df = df[['Date', 'Open', 'High', 'Low', 'Close', 'Volume', 'dividend']]\n",
        "        df['dividend'].fillna(0.00, inplace=True)\n",
        "        df['ratio'] = 1 \n",
        "        \n",
        "        df.rename(columns={'Open': 'open',\n",
        "                           'High': 'high',\n",
        "                           'Low': 'low',\n",
        "                           'Close': 'close',\n",
        "                           'Volume': 'volume'\n",
        "                           }, inplace=True)\n",
        "        \n",
        "\n",
        "        df = df.round({'open':2,\n",
        "                  'high':2,\n",
        "                  'low':2,\n",
        "                  'close':2,\n",
        "                  'volume':1,\n",
        "                  'dividend':2})\n",
        "\n",
        "        df.to_csv('abc.csv',sep=',')\n",
        "        #df.to_csv('{}/{}'.format(u'/content/', f), index=False)\n",
        "\n",
        "        count += 1\n",
        "        \n",
        "    return ('{} files was adjusted'.format(count))\n",
        "\n",
        "\n",
        "#%%  Execute the function to format the files\n",
        "format_bundle('SHFE-SNX2020.csv', u'/content/mainfile')\n"
      ],
      "execution_count": null,
      "outputs": [
        {
          "output_type": "execute_result",
          "data": {
            "application/vnd.google.colaboratory.intrinsic+json": {
              "type": "string"
            },
            "text/plain": [
              "'1 files was adjusted'"
            ]
          },
          "metadata": {
            "tags": []
          },
          "execution_count": 186
        }
      ]
    },
    {
      "cell_type": "code",
      "metadata": {
        "colab": {
          "base_uri": "https://localhost:8080/"
        },
        "id": "RRgv95MWBXzD",
        "outputId": "51e6f39a-172e-4253-c4d6-2168c3868924"
      },
      "source": [
        "%pwd\n"
      ],
      "execution_count": null,
      "outputs": [
        {
          "output_type": "execute_result",
          "data": {
            "text/plain": [
              "u'/content'"
            ]
          },
          "metadata": {
            "tags": []
          },
          "execution_count": 187
        }
      ]
    },
    {
      "cell_type": "code",
      "metadata": {
        "colab": {
          "base_uri": "https://localhost:8080/"
        },
        "id": "wWFi6JBVu6UT",
        "outputId": "cb02390b-70b9-44af-e164-9f2ed85d4075"
      },
      "source": [
        "from zipline.data.bundles import register\n",
        "from zipline.data.bundles.csvdir import csvdir_equities\n",
        "\n",
        "# Set the start and end dates of the bars, should also align with the Trading Calendar\n",
        "start_session = pd.Timestamp('2019-11-18', tz='utc')\n",
        "end_session = pd.Timestamp('2020-11-16', tz='utc')\n",
        "\n",
        "\n",
        "\n",
        "register(\n",
        "    'custom-bundle',   # What to call the new bundle\n",
        "    csvdir_equities(\n",
        "        u'/content/mainfile/',  # Directory where the formatted bar data is\n",
        "    ),\n",
        "    calendar_name='SSE', # Shanghai equities default\n",
        "    start_session=start_session,\n",
        "    end_session=end_session\n",
        ")\n",
        "\n",
        "\n",
        "\n"
      ],
      "execution_count": null,
      "outputs": [
        {
          "output_type": "stream",
          "text": [
            "/usr/local/lib/python2.7/dist-packages/ipykernel_launcher.py:17: UserWarning: Overwriting bundle with name 'custom-bundle'\n"
          ],
          "name": "stderr"
        },
        {
          "output_type": "execute_result",
          "data": {
            "text/plain": [
              "<bound method CSVDIRBundle.ingest of <zipline.data.bundles.csvdir.CSVDIRBundle instance at 0x7f98bb85eaa0>>"
            ]
          },
          "metadata": {
            "tags": []
          },
          "execution_count": 211
        }
      ]
    },
    {
      "cell_type": "code",
      "metadata": {
        "id": "rJfmQskjsWxw"
      },
      "source": [
        "! zipline ingest -b 'custom-bundle'"
      ],
      "execution_count": null,
      "outputs": []
    },
    {
      "cell_type": "markdown",
      "metadata": {
        "id": "u24DKK-IMKcT"
      },
      "source": [
        "WE COULD ALSO HAVE CREATED JUST A DATA FRAME OR PANEL TO WORK UPON, IF THE DESIRE IF TO WORK WITH FEW CSVs"
      ]
    },
    {
      "cell_type": "code",
      "metadata": {
        "colab": {
          "base_uri": "https://localhost:8080/"
        },
        "id": "Lvl_-HYU-D_q",
        "outputId": "a0edc522-e0e3-4b47-c5c0-7fb62ca964a1"
      },
      "source": [
        "import pandas as pd\n",
        "import io\n",
        "from collections import OrderedDict\n",
        "import pytz\n",
        "\n",
        "df = OrderedDict()\n",
        "df['SHFE'] = pd.read_csv(io.BytesIO(uploaded['SHFE-SNX2020.csv']), index_col=0, parse_dates=['Date'])\n",
        "df['SHFE'] = df['SHFE'][[\"Open\" , \"High\" ,\"Low\" , \"Close\", \"Volume\" ]]\n",
        "print(df['SHFE'].head())\n"
      ],
      "execution_count": null,
      "outputs": [
        {
          "output_type": "stream",
          "text": [
            "                Open      High       Low   Close  Volume\n",
            "Date                                                    \n",
            "2019-11-18  146000.0  147250.0  146000.0  147250      26\n",
            "2019-11-19  144800.0  145900.0  144800.0  145900      12\n",
            "2019-11-20  143010.0  145600.0  143010.0  144660      10\n",
            "2019-11-21  145310.0  145310.0  145300.0  145300      12\n",
            "2019-11-22  146100.0  146140.0  145300.0  145300      16\n"
          ],
          "name": "stdout"
        }
      ]
    },
    {
      "cell_type": "code",
      "metadata": {
        "colab": {
          "base_uri": "https://localhost:8080/"
        },
        "id": "C97l7UlN-NSi",
        "outputId": "e2158ec8-aa7a-4dc6-85d0-f99d9a5ff6bc"
      },
      "source": [
        "import pytz\n",
        "panel = pd.Panel(df)\n",
        "panel.minor_axis = [\"Open\" , \"High\" ,\"Low\" , \"Close\", \"Volume\" ]\n",
        "panel.major_axis = panel.major_axis.tz_localize(pytz.utc)\n",
        "print(panel)"
      ],
      "execution_count": null,
      "outputs": [
        {
          "output_type": "stream",
          "text": [
            "<class 'pandas.core.panel.Panel'>\n",
            "Dimensions: 1 (items) x 242 (major_axis) x 5 (minor_axis)\n",
            "Items axis: SHFE to SHFE\n",
            "Major_axis axis: 2019-11-18 00:00:00+00:00 to 2020-11-16 00:00:00+00:00\n",
            "Minor_axis axis: Open to Volume\n"
          ],
          "name": "stdout"
        }
      ]
    },
    {
      "cell_type": "code",
      "metadata": {
        "colab": {
          "base_uri": "https://localhost:8080/"
        },
        "id": "g6QObp8YOEmd",
        "outputId": "2dca5048-061d-43da-ee18-13df1eb23cae"
      },
      "source": [
        "bundle_name = panel\n",
        "from zipline.data.bundles import register\n",
        "from zipline.data.bundles.csvdir import csvdir_equities\n",
        "injest_func = csvdir_equities(['daily'], bundle_name)"
      ],
      "execution_count": null,
      "outputs": [
        {
          "output_type": "stream",
          "text": [
            "csvdir <no ingestions>\n",
            "quandl <no ingestions>\n",
            "quantopian-quandl 2021-06-12 12:25:03.177554\n",
            "quantopian-quandl 2021-06-12 09:06:12.571332\n"
          ],
          "name": "stdout"
        }
      ]
    }
  ]
}