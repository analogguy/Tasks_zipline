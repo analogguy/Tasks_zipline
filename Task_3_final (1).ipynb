{
  "nbformat": 4,
  "nbformat_minor": 0,
  "metadata": {
    "colab": {
      "name": "Task_3_final.ipynb",
      "provenance": [],
      "collapsed_sections": []
    },
    "kernelspec": {
      "name": "python2",
      "display_name": "Python 2"
    },
    "language_info": {
      "name": "python"
    }
  },
  "cells": [
    {
      "cell_type": "markdown",
      "metadata": {
        "id": "MhWQD-DlrD8z"
      },
      "source": [
        "\n",
        "In pair trading, you buy the undervalued security and sell the overvalued one. Sooner or later, as they are a pair and expected to move together, using the concept of mean reversion we can say that the undervalued one will soon be hitting higher average price, so buy it while its still cheap. Similarily, since they are a pair and if for some reason one's price went high, it will soon reach the average, hence sell it while it still is high. :)\n",
        "---\n",
        "\n"
      ]
    },
    {
      "cell_type": "code",
      "metadata": {
        "colab": {
          "base_uri": "https://localhost:8080/"
        },
        "id": "sPGPzOddiOAR",
        "outputId": "3f5885b4-667d-425c-9b16-75c3263bf512"
      },
      "source": [
        "!python --version"
      ],
      "execution_count": null,
      "outputs": [
        {
          "output_type": "stream",
          "text": [
            "Python 2.7.17\n"
          ],
          "name": "stdout"
        }
      ]
    },
    {
      "cell_type": "markdown",
      "metadata": {
        "id": "hC3Cvi0LkBDQ"
      },
      "source": [
        "Had to resort to previous version of Python as no support for Zipline in 3.7"
      ]
    },
    {
      "cell_type": "code",
      "metadata": {
        "colab": {
          "base_uri": "https://localhost:8080/"
        },
        "id": "KS6UKLI8iXUA",
        "outputId": "75b1fb7e-00d1-4956-8db7-f4621bb4a4da"
      },
      "source": [
        "!pip install zipline"
      ],
      "execution_count": null,
      "outputs": [
        {
          "output_type": "stream",
          "text": [
            "Collecting zipline\n",
            "\u001b[?25l  Downloading https://files.pythonhosted.org/packages/42/9b/5a55c79ca66e1c3ed2d94155cb71eb033eaf96cea71b81eb0579610d489f/zipline-1.4.1.tar.gz (5.4MB)\n",
            "\u001b[K     |████████████████████████████████| 5.4MB 16.2MB/s \n",
            "\u001b[?25hRequirement already satisfied: pip>=7.1.0 in /usr/local/lib/python2.7/dist-packages (from zipline) (19.3.1)\n",
            "Requirement already satisfied: setuptools>18.0 in /usr/local/lib/python2.7/dist-packages (from zipline) (44.1.1)\n",
            "Collecting Logbook>=0.12.5\n",
            "\u001b[?25l  Downloading https://files.pythonhosted.org/packages/2f/d9/16ac346f7c0102835814cc9e5b684aaadea101560bb932a2403bd26b2320/Logbook-1.5.3.tar.gz (85kB)\n",
            "\u001b[K     |████████████████████████████████| 92kB 10.7MB/s \n",
            "\u001b[?25hRequirement already satisfied: click>=4.0.0 in /usr/local/lib/python2.7/dist-packages (from zipline) (7.0)\n",
            "Requirement already satisfied: six>=1.10.0 in /usr/local/lib/python2.7/dist-packages (from zipline) (1.15.0)\n",
            "Requirement already satisfied: contextlib2>=0.4.0 in /usr/local/lib/python2.7/dist-packages (from zipline) (0.5.5)\n",
            "Collecting python-interface>=1.5.3\n",
            "  Downloading https://files.pythonhosted.org/packages/fc/e9/092908ad6587b2537ab19fd68cea2eae520321530f23c4b82af71a38b8a1/python-interface-1.6.1.tar.gz\n",
            "Collecting multipledispatch>=0.6.0\n",
            "  Downloading https://files.pythonhosted.org/packages/3d/a3/3638c2232eb513a9f876bb96e2e400f18d2f5bdc2e7abe84194c8bd38c2d/multipledispatch-0.6.0-py2-none-any.whl\n",
            "Requirement already satisfied: toolz>=0.8.2 in /usr/local/lib/python2.7/dist-packages (from zipline) (0.10.0)\n",
            "Requirement already satisfied: numpy>=1.11.3 in /usr/local/lib/python2.7/dist-packages (from zipline) (1.16.4)\n",
            "Collecting pandas<=0.22,>=0.18.1\n",
            "\u001b[?25l  Downloading https://files.pythonhosted.org/packages/6b/b5/76538d8a202f8c368d30c18892d33664d1a3b2c078af8513ee5b5d172629/pandas-0.22.0-cp27-cp27mu-manylinux1_x86_64.whl (24.3MB)\n",
            "\u001b[K     |████████████████████████████████| 24.3MB 2.0MB/s \n",
            "\u001b[?25hRequirement already satisfied: pandas-datareader<0.9.0,>=0.2.1 in /usr/local/lib/python2.7/dist-packages (from zipline) (0.7.0)\n",
            "Requirement already satisfied: scipy>=0.17.1 in /usr/local/lib/python2.7/dist-packages (from zipline) (1.2.2)\n",
            "Requirement already satisfied: patsy>=0.4.0 in /usr/local/lib/python2.7/dist-packages (from zipline) (0.5.1)\n",
            "Requirement already satisfied: statsmodels>=0.6.1 in /usr/local/lib/python2.7/dist-packages (from zipline) (0.10.0)\n",
            "Collecting empyrical>=0.5.0\n",
            "\u001b[?25l  Downloading https://files.pythonhosted.org/packages/74/43/1b997c21411c6ab7c96dc034e160198272c7a785aeea7654c9bcf98bec83/empyrical-0.5.5.tar.gz (52kB)\n",
            "\u001b[K     |████████████████████████████████| 61kB 8.4MB/s \n",
            "\u001b[?25hRequirement already satisfied: pytz>=2018.5 in /usr/local/lib/python2.7/dist-packages (from zipline) (2018.9)\n",
            "Collecting iso3166>=0.9\n",
            "  Downloading https://files.pythonhosted.org/packages/a0/42/15d2ef2211ddb26deb810a21b084ee6f3d1bc7248e884dcabb5edc04b649/iso3166-1.0.1-py2.py3-none-any.whl\n",
            "Collecting trading-calendars>=1.6.1\n",
            "\u001b[?25l  Downloading https://files.pythonhosted.org/packages/1e/6e/613df8268dea3aac81d3b9d9872d4e48526f8650e970ca1d14911f02dad0/trading_calendars-2.1.1.tar.gz (108kB)\n",
            "\u001b[K     |████████████████████████████████| 112kB 55.0MB/s \n",
            "\u001b[?25hRequirement already satisfied: requests>=2.9.1 in /usr/local/lib/python2.7/dist-packages (from zipline) (2.23.0)\n",
            "Requirement already satisfied: sqlalchemy>=1.0.8 in /usr/local/lib/python2.7/dist-packages (from zipline) (1.3.5)\n",
            "Collecting alembic>=0.7.7\n",
            "\u001b[?25l  Downloading https://files.pythonhosted.org/packages/d5/80/ef186e599a57d0e4cb78fc76e0bfc2e6953fa9716b2a5cf2de0117ed8eb5/alembic-1.6.5-py2.py3-none-any.whl (164kB)\n",
            "\u001b[K     |████████████████████████████████| 174kB 45.6MB/s \n",
            "\u001b[?25hRequirement already satisfied: bcolz>=0.12.1 in /usr/local/lib/python2.7/dist-packages (from zipline) (1.2.1)\n",
            "Requirement already satisfied: h5py>=2.7.1 in /usr/local/lib/python2.7/dist-packages (from zipline) (2.8.0)\n",
            "Requirement already satisfied: tables>=3.4.3 in /usr/local/lib/python2.7/dist-packages (from zipline) (3.4.4)\n",
            "Collecting lru-dict>=1.1.4\n",
            "  Downloading https://files.pythonhosted.org/packages/68/ea/997af58d4e6da019ad825a412f93081d9df67e9dda11cfb026a3d7cd0b6c/lru-dict-1.1.7.tar.gz\n",
            "Requirement already satisfied: intervaltree>=2.1.0 in /usr/local/lib/python2.7/dist-packages (from zipline) (2.1.0)\n",
            "Collecting bottleneck>=1.0.0\n",
            "\u001b[?25l  Downloading https://files.pythonhosted.org/packages/5b/08/278c6ee569458e168096f6b51019cc1c81c288da3d1026a22ee2ccead102/Bottleneck-1.3.2.tar.gz (88kB)\n",
            "\u001b[K     |████████████████████████████████| 92kB 10.6MB/s \n",
            "\u001b[?25h  Installing build dependencies ... \u001b[?25l\u001b[?25hdone\n",
            "  Getting requirements to build wheel ... \u001b[?25l\u001b[?25hdone\n",
            "    Preparing wheel metadata ... \u001b[?25l\u001b[?25hdone\n",
            "Collecting networkx<2.0,>=1.9.1\n",
            "\u001b[?25l  Downloading https://files.pythonhosted.org/packages/d3/2c/e473e54afc9fae58dfa97066ef6709a7e35a1dd1c28c5a3842989322be00/networkx-1.11-py2.py3-none-any.whl (1.3MB)\n",
            "\u001b[K     |████████████████████████████████| 1.3MB 30.3MB/s \n",
            "\u001b[?25hRequirement already satisfied: numexpr>=2.6.1 in /usr/local/lib/python2.7/dist-packages (from zipline) (2.6.9)\n",
            "Collecting iso4217>=1.6.20180829\n",
            "  Downloading https://files.pythonhosted.org/packages/68/f2/7ac00a52990623da868742697855ca2392ff11ee5934150fed0d94eb4d8c/iso4217-1.6.20180829-py2.py3-none-any.whl\n",
            "Requirement already satisfied: funcsigs>=1.0.2 in /usr/local/lib/python2.7/dist-packages (from python-interface>=1.5.3->zipline) (1.0.2)\n",
            "Requirement already satisfied: typing>=3.5.2 in /usr/local/lib/python2.7/dist-packages (from python-interface>=1.5.3->zipline) (3.7.4)\n",
            "Requirement already satisfied: python-dateutil in /usr/local/lib/python2.7/dist-packages (from pandas<=0.22,>=0.18.1->zipline) (2.5.3)\n",
            "Requirement already satisfied: lxml in /usr/local/lib/python2.7/dist-packages (from pandas-datareader<0.9.0,>=0.2.1->zipline) (4.2.6)\n",
            "Requirement already satisfied: wrapt in /usr/local/lib/python2.7/dist-packages (from pandas-datareader<0.9.0,>=0.2.1->zipline) (1.11.2)\n",
            "Requirement already satisfied: urllib3!=1.25.0,!=1.25.1,<1.26,>=1.21.1 in /usr/local/lib/python2.7/dist-packages (from requests>=2.9.1->zipline) (1.24.3)\n",
            "Requirement already satisfied: chardet<4,>=3.0.2 in /usr/local/lib/python2.7/dist-packages (from requests>=2.9.1->zipline) (3.0.4)\n",
            "Requirement already satisfied: certifi>=2017.4.17 in /usr/local/lib/python2.7/dist-packages (from requests>=2.9.1->zipline) (2019.6.16)\n",
            "Requirement already satisfied: idna<3,>=2.5 in /usr/local/lib/python2.7/dist-packages (from requests>=2.9.1->zipline) (2.8)\n",
            "Collecting python-editor>=0.3\n",
            "  Downloading https://files.pythonhosted.org/packages/55/a0/3c0ba1c10f2ca381645dd46cb7afbb73fddc8de9f957e1f9e726a846eabc/python_editor-1.0.4-py2-none-any.whl\n",
            "Collecting Mako\n",
            "\u001b[?25l  Downloading https://files.pythonhosted.org/packages/f3/54/dbc07fbb20865d3b78fdb7cf7fa713e2cba4f87f71100074ef2dc9f9d1f7/Mako-1.1.4-py2.py3-none-any.whl (75kB)\n",
            "\u001b[K     |████████████████████████████████| 81kB 10.6MB/s \n",
            "\u001b[?25hRequirement already satisfied: sortedcontainers in /usr/local/lib/python2.7/dist-packages (from intervaltree>=2.1.0->zipline) (2.1.0)\n",
            "Requirement already satisfied: decorator>=3.4.0 in /usr/local/lib/python2.7/dist-packages (from networkx<2.0,>=1.9.1->zipline) (4.4.0)\n",
            "Requirement already satisfied: MarkupSafe>=0.9.2 in /usr/local/lib/python2.7/dist-packages (from Mako->alembic>=0.7.7->zipline) (1.1.1)\n",
            "Building wheels for collected packages: bottleneck\n",
            "  Building wheel for bottleneck (PEP 517) ... \u001b[?25l\u001b[?25hdone\n",
            "  Created wheel for bottleneck: filename=Bottleneck-1.3.2-cp27-cp27mu-linux_x86_64.whl size=315074 sha256=e2179227fa0b72e849328de096cd1d1204525d3789b57694fd4f5bb30587a544\n",
            "  Stored in directory: /root/.cache/pip/wheels/97/a9/12/41b13e8b44889ab05ec4dcc91f27da21634bacf2a0e87473b8\n",
            "Successfully built bottleneck\n",
            "Building wheels for collected packages: zipline, Logbook, python-interface, empyrical, trading-calendars, lru-dict\n",
            "  Building wheel for zipline (setup.py) ... \u001b[?25l\u001b[?25hdone\n",
            "  Created wheel for zipline: filename=zipline-1.4.1-cp27-cp27mu-linux_x86_64.whl size=2953448 sha256=8aa81a32c6e8d8f533f40ce80b52e5931402a21175ab16147ee76e08d12d5442\n",
            "  Stored in directory: /root/.cache/pip/wheels/b8/01/d8/f22466b28d66ec4f732cf23057eacc4bd5a15ce37bfbd4660a\n",
            "  Building wheel for Logbook (setup.py) ... \u001b[?25l\u001b[?25hdone\n",
            "  Created wheel for Logbook: filename=Logbook-1.5.3-cp27-cp27mu-linux_x86_64.whl size=66388 sha256=2352b4d744e3e261d701c3ce32736e35dc01d5096c70b1236488eaa8f95dc2e7\n",
            "  Stored in directory: /root/.cache/pip/wheels/d2/70/07/68b99a8e05dcd1ab194a8e0ccb9e4d0ac5dd6d8d139c7149b4\n",
            "  Building wheel for python-interface (setup.py) ... \u001b[?25l\u001b[?25hdone\n",
            "  Created wheel for python-interface: filename=python_interface-1.6.1-cp27-none-any.whl size=23223 sha256=47e6cf4a2ff5fa26744ec108e3ab5cc2711385671c49fb23ecb639a4040704aa\n",
            "  Stored in directory: /root/.cache/pip/wheels/f4/5f/b2/158b245326cb0bbd0d46c941528f70aa8dd0d548f5e429918b\n",
            "  Building wheel for empyrical (setup.py) ... \u001b[?25l\u001b[?25hdone\n",
            "  Created wheel for empyrical: filename=empyrical-0.5.5-cp27-none-any.whl size=39765 sha256=4ce9f92c863345f057e5503f1a41a90b3b460850fb763a8ee3b3552892e52ee3\n",
            "  Stored in directory: /root/.cache/pip/wheels/ea/b2/c8/6769d8444d2f2e608fae2641833110668d0ffd1abeb2e9f3fc\n",
            "  Building wheel for trading-calendars (setup.py) ... \u001b[?25l\u001b[?25hdone\n",
            "  Created wheel for trading-calendars: filename=trading_calendars-2.1.1-cp27-none-any.whl size=140920 sha256=07556d7819c6a88ea3f940b1edd633d0b2f70dad674c6e0d1a16f5e98a313b16\n",
            "  Stored in directory: /root/.cache/pip/wheels/79/92/44/de8b4d9a7d86cd8f67ea3adfa91bdc7bd441c691b733418cca\n",
            "  Building wheel for lru-dict (setup.py) ... \u001b[?25l\u001b[?25hdone\n",
            "  Created wheel for lru-dict: filename=lru_dict-1.1.7-cp27-cp27mu-linux_x86_64.whl size=21890 sha256=a9aaa9647affaabe656962d7f2a6cbb27352d40f8bc29e4f45607dfd9a894d4d\n",
            "  Stored in directory: /root/.cache/pip/wheels/ae/51/23/0a416781dead9225c7d66d25b9f223c7e32304e99a0b01d566\n",
            "Successfully built zipline Logbook python-interface empyrical trading-calendars lru-dict\n",
            "\u001b[31mERROR: google-colab 1.0.0 has requirement pandas~=0.24.0; python_version < \"3.0\", but you'll have pandas 0.22.0 which is incompatible.\u001b[0m\n",
            "\u001b[31mERROR: fastai 0.7.0 has requirement torch<0.4, but you'll have torch 1.4.0 which is incompatible.\u001b[0m\n",
            "\u001b[31mERROR: featuretools 0.4.1 has requirement pandas>=0.23.0, but you'll have pandas 0.22.0 which is incompatible.\u001b[0m\n",
            "\u001b[31mERROR: fbprophet 0.5 has requirement pandas>=0.23.4, but you'll have pandas 0.22.0 which is incompatible.\u001b[0m\n",
            "Installing collected packages: Logbook, python-interface, multipledispatch, pandas, empyrical, iso3166, trading-calendars, python-editor, Mako, alembic, lru-dict, bottleneck, networkx, iso4217, zipline\n",
            "  Found existing installation: pandas 0.24.2\n",
            "    Uninstalling pandas-0.24.2:\n",
            "      Successfully uninstalled pandas-0.24.2\n",
            "  Found existing installation: networkx 2.2\n",
            "    Uninstalling networkx-2.2:\n",
            "      Successfully uninstalled networkx-2.2\n",
            "Successfully installed Logbook-1.5.3 Mako-1.1.4 alembic-1.6.5 bottleneck-1.3.2 empyrical-0.5.5 iso3166-1.0.1 iso4217-1.6.20180829 lru-dict-1.1.7 multipledispatch-0.6.0 networkx-1.11 pandas-0.22.0 python-editor-1.0.4 python-interface-1.6.1 trading-calendars-2.1.1 zipline-1.4.1\n"
          ],
          "name": "stdout"
        }
      ]
    },
    {
      "cell_type": "code",
      "metadata": {
        "colab": {
          "base_uri": "https://localhost:8080/"
        },
        "id": "Ub3tRU_Ciu_5",
        "outputId": "3e96fa6f-599b-42cd-c3df-ed40a214258a"
      },
      "source": [
        "!apt-get install libatlas-base-dev python-dev gfortran pkg-config libfreetype6-dev hdf5-tools"
      ],
      "execution_count": null,
      "outputs": [
        {
          "output_type": "stream",
          "text": [
            "Reading package lists... Done\n",
            "Building dependency tree       \n",
            "Reading state information... Done\n",
            "pkg-config is already the newest version (0.29.1-0ubuntu2).\n",
            "python-dev is already the newest version (2.7.15~rc1-1).\n",
            "libatlas-base-dev is already the newest version (3.10.3-5).\n",
            "gfortran is already the newest version (4:7.4.0-1ubuntu2.3).\n",
            "libfreetype6-dev is already the newest version (2.8.1-2ubuntu2.1).\n",
            "The following NEW packages will be installed:\n",
            "  hdf5-tools\n",
            "0 upgraded, 1 newly installed, 0 to remove and 39 not upgraded.\n",
            "Need to get 390 kB of archives.\n",
            "After this operation, 2,280 kB of additional disk space will be used.\n",
            "Get:1 http://archive.ubuntu.com/ubuntu bionic/universe amd64 hdf5-tools amd64 1.10.0-patch1+docs-4 [390 kB]\n",
            "Fetched 390 kB in 1s (714 kB/s)\n",
            "Selecting previously unselected package hdf5-tools.\n",
            "(Reading database ... 160772 files and directories currently installed.)\n",
            "Preparing to unpack .../hdf5-tools_1.10.0-patch1+docs-4_amd64.deb ...\n",
            "Unpacking hdf5-tools (1.10.0-patch1+docs-4) ...\n",
            "Setting up hdf5-tools (1.10.0-patch1+docs-4) ...\n",
            "Processing triggers for man-db (2.8.3-2ubuntu0.1) ...\n"
          ],
          "name": "stdout"
        }
      ]
    },
    {
      "cell_type": "code",
      "metadata": {
        "id": "oefobnofjIQ3"
      },
      "source": [
        "import os\n",
        "os.environ['QUANDL_API_KEY'] = '1MVxkHJfSsgBjS2KYERG'"
      ],
      "execution_count": null,
      "outputs": []
    },
    {
      "cell_type": "code",
      "metadata": {
        "id": "hOwtpvyMjThe",
        "colab": {
          "base_uri": "https://localhost:8080/"
        },
        "outputId": "f97f1ac4-4410-488b-d8e5-f47e1b3783cb"
      },
      "source": [
        "%matplotlib inline\n",
        "%load_ext zipline"
      ],
      "execution_count": null,
      "outputs": [
        {
          "output_type": "stream",
          "text": [
            "The zipline extension is already loaded. To reload it, use:\n",
            "  %reload_ext zipline\n"
          ],
          "name": "stdout"
        }
      ]
    },
    {
      "cell_type": "code",
      "metadata": {
        "id": "BZ7sljQjjjt5",
        "colab": {
          "base_uri": "https://localhost:8080/"
        },
        "outputId": "ea43bd72-917b-493f-e28b-206b25156e15"
      },
      "source": [
        "! zipline ingest -b quantopian-quandl"
      ],
      "execution_count": null,
      "outputs": [
        {
          "output_type": "stream",
          "text": [
            "[2021-06-12 14:58:12.762529] INFO: zipline.data.bundles.core: Ingesting quantopian-quandl.\n",
            "\u001b[?25lDownloading Bundle: quantopian-quandl  [####################################]  100%          \u001b[?25h\n",
            "[2021-06-12 14:58:14.411120] INFO: zipline.data.bundles.quandl: Writing data to /root/.zipline/data/quantopian-quandl/2021-06-12T14;58;12.436604.\n"
          ],
          "name": "stdout"
        }
      ]
    },
    {
      "cell_type": "code",
      "metadata": {
        "id": "jLOVooBt11TC"
      },
      "source": [
        "import zipline\n",
        "from zipline import TradingAlgorithm"
      ],
      "execution_count": null,
      "outputs": []
    },
    {
      "cell_type": "code",
      "metadata": {
        "id": "nnWDgOb_jY_J"
      },
      "source": [
        "#%%zipline --start 2016-1-1 --end 2018-1-1 --no-benchmark\n",
        "from zipline.api import order, symbol, record\n",
        "#from zipline.finance import commission, slippage \n",
        "\n",
        "#So let us write something simple first, I am selling all of overvalued one and buying 10 of undervalued\n",
        "def initialize(context):\n",
        "  context.security_1 = symbol('AAPL')\n",
        "  context.security_2 = symbol('MSFT')\n",
        "\n",
        "def handle_data(context, data):\n",
        "  average_price_1 = data[context.security_1].mavg(50)\n",
        "  current_price_1 = data[context.security_1].price\n",
        "  average_price_2 = data[context.security_2].mavg(50)\n",
        "  current_price_2 = data[context.security_2].price\n",
        "\n",
        "\n",
        "  if current_price_1 > 1.01*average_price_1 and current_price_2 < 0.99*average_price_2:\n",
        "    order(context.security_2, +10)\n",
        "    log.info(\"Buying %s\" % (context.security_2.symbol))\n",
        "    order_target(context.security_1, 0)\n",
        "    log.info(\"Selling %s\" % (context.security_1.symbol))\n",
        "\n",
        "  elif current_price_1 < 1.01*average_price_1 and current_price_2 > 0.99*average_price_2:\n",
        "    order(context.security_1, +10)\n",
        "    log.info(\"Buying %s\" % (context.security_1.symbol))\n",
        "    order_target(context.security_2, 0)\n",
        "    log.info(\"Selling %s\" % (context.security_2.symbol))\n",
        "\n",
        "\n",
        "#So sell all if overvalued, and buy 10 of the one which is under valued, if other is over valued\n",
        "    # Save values for later inspection\n",
        "    record(AAPL=current_price_1,\n",
        "           mavg_AAPL=average_price_1, \n",
        "           MSFT=current_price_2,\n",
        "           mavg_MSFT=average_price_2\n",
        "           )"
      ],
      "execution_count": null,
      "outputs": []
    }
  ]
}