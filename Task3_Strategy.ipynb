{
  "nbformat": 4,
  "nbformat_minor": 0,
  "metadata": {
    "colab": {
      "name": "Task3_Strategy.ipynb",
      "provenance": []
    },
    "kernelspec": {
      "display_name": "Python 3",
      "name": "python3"
    },
    "language_info": {
      "name": "python"
    }
  },
  "cells": [
    {
      "cell_type": "code",
      "metadata": {
        "colab": {
          "background_save": true,
          "base_uri": "https://localhost:8080/"
        },
        "id": "VTBQ1dCZlHzW",
        "outputId": "75a51839-d1c9-4759-a33e-055edb06f4ef"
      },
      "source": [
        "!python --version\n",
        "!pip install zipline"
      ],
      "execution_count": null,
      "outputs": [
        {
          "output_type": "stream",
          "text": [
            "Python 3.7.10\n",
            "Collecting zipline\n",
            "  Using cached https://files.pythonhosted.org/packages/42/9b/5a55c79ca66e1c3ed2d94155cb71eb033eaf96cea71b81eb0579610d489f/zipline-1.4.1.tar.gz\n",
            "Requirement already satisfied: pip>=7.1.0 in /usr/local/lib/python3.7/dist-packages (from zipline) (19.3.1)\n",
            "Requirement already satisfied: setuptools>18.0 in /usr/local/lib/python3.7/dist-packages (from zipline) (57.0.0)\n",
            "Collecting Logbook>=0.12.5\n",
            "  Using cached https://files.pythonhosted.org/packages/2f/d9/16ac346f7c0102835814cc9e5b684aaadea101560bb932a2403bd26b2320/Logbook-1.5.3.tar.gz\n",
            "Requirement already satisfied: click>=4.0.0 in /usr/local/lib/python3.7/dist-packages (from zipline) (7.1.2)\n",
            "Requirement already satisfied: six>=1.10.0 in /usr/local/lib/python3.7/dist-packages (from zipline) (1.15.0)\n",
            "Collecting python-interface>=1.5.3\n",
            "  Using cached https://files.pythonhosted.org/packages/fc/e9/092908ad6587b2537ab19fd68cea2eae520321530f23c4b82af71a38b8a1/python-interface-1.6.1.tar.gz\n",
            "Collecting multipledispatch>=0.6.0\n",
            "  Using cached https://files.pythonhosted.org/packages/89/79/429ecef45fd5e4504f7474d4c3c3c4668c267be3370e4c2fd33e61506833/multipledispatch-0.6.0-py3-none-any.whl\n",
            "Requirement already satisfied: toolz>=0.8.2 in /usr/local/lib/python3.7/dist-packages (from zipline) (0.11.1)\n",
            "Requirement already satisfied: numpy>=1.11.3 in /usr/local/lib/python3.7/dist-packages (from zipline) (1.19.5)\n",
            "Collecting pandas<=0.22,>=0.18.1\n",
            "  Using cached https://files.pythonhosted.org/packages/08/01/803834bc8a4e708aedebb133095a88a4dad9f45bbaf5ad777d2bea543c7e/pandas-0.22.0.tar.gz\n",
            "  Installing build dependencies ... \u001b[?25l\u001b[?25herror\n",
            "\u001b[31mERROR: Command errored out with exit status 1: /usr/bin/python3 /usr/local/lib/python3.7/dist-packages/pip install --ignore-installed --no-user --prefix /tmp/pip-build-env-mhu2vnlv/overlay --no-warn-script-location -v --no-binary :none: --only-binary :none: -i https://pypi.org/simple -- wheel setuptools Cython 'numpy==1.9.3; python_version=='\"'\"'3.5'\"'\"'' 'numpy==1.12.1; python_version=='\"'\"'3.6'\"'\"'' 'numpy==1.13.1; python_version>='\"'\"'3.7'\"'\"'' Check the logs for full command output.\u001b[0m\n"
          ],
          "name": "stdout"
        }
      ]
    },
    {
      "cell_type": "code",
      "metadata": {
        "id": "1L6In7DDllbL"
      },
      "source": [
        "!apt-get install libatlas-base-dev python-dev gfortran pkg-config libfreetype6-dev hdf5-tools"
      ],
      "execution_count": null,
      "outputs": []
    },
    {
      "cell_type": "code",
      "metadata": {
        "id": "be5rRn_zlpKK"
      },
      "source": [
        "import os\n",
        "os.environ['QUANDL_API_KEY'] = '1MVxkHJfSsgBjS2KYERG'"
      ],
      "execution_count": null,
      "outputs": []
    },
    {
      "cell_type": "code",
      "metadata": {
        "id": "_GiSnHIVlrWZ"
      },
      "source": [
        "%load_ext zipline"
      ],
      "execution_count": null,
      "outputs": []
    },
    {
      "cell_type": "code",
      "metadata": {
        "id": "JONRKzAblu7Y"
      },
      "source": [
        "! zipline ingest -b quantopian-quandl"
      ],
      "execution_count": null,
      "outputs": []
    },
    {
      "cell_type": "markdown",
      "metadata": {
        "id": "xC8bEuOCgSu0"
      },
      "source": [
        "In pair trading, you buy the undervalued security and sell the overvalued one.\n",
        "Sooner or later, as they are a pair and expected to move together, using the concept of mean reversion we can say that the undervalued one will soon be hitting higher average price, so buy it while its still cheap. Similarily, since they are a pair and if for some reason one's price went high, it will soon reach the average, hence sell it while it still is high. :)"
      ]
    },
    {
      "cell_type": "code",
      "metadata": {
        "id": "Sj9rCGzCl2ow"
      },
      "source": [
        "%%zipline --start 2016-1-1 --end 2018-1-1 --no-benchmark\n",
        "from zipline.api import order, record, symbol\n",
        "from zipline.finance import commission, slippage"
      ],
      "execution_count": null,
      "outputs": []
    },
    {
      "cell_type": "code",
      "metadata": {
        "id": "zo4Nc978gNLl"
      },
      "source": [
        "#So let us write something simple first, I am selling all of overvalued one and buying 10 of undervalued\n",
        "def initialize(context):\n",
        "  context.security_1 = symbol('AAPL')\n",
        "  context.security_2 = symbol('MSFT')\n",
        "\n",
        "def handle_data(context, data):\n",
        "     average_price_1 = data[context.security_1].mavg(50)\n",
        "     current_price_1 = data[context.security_1].price\n",
        "     average_price_2 = data[context.security_2].mavg(50)\n",
        "     current_price_2 = data[context.security_2].price\n",
        "\n",
        "\n",
        "  if current_price_1 > 1.01*average_price and current_price_2 < 1.01*average_price2:\n",
        "\n",
        "        order(context.security_2, +10)\n",
        "        log.info(\"Buying %s\" % (context.security_2.symbol))\n",
        "        order_target(context.security_1, 0)\n",
        "        log.info(\"Selling %s\" % (context.security_1.symbol))\n",
        "\n",
        "  elif current_price_1 < 1.01*average_price and current_price_2 > 1.01*average_price2:\n",
        "        order(context.security_1, +10)\n",
        "        log.info(\"Buying %s\" % (context.security_1.symbol))\n",
        "        order_target(context.security_2, 0)\n",
        "        log.info(\"Selling %s\" % (context.security_2.symbol))\n"
      ],
      "execution_count": null,
      "outputs": []
    }
  ]
}